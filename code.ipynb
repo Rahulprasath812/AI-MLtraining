{
 "cells": [
  {
   "cell_type": "code",
   "execution_count": 24,
   "id": "5ce5950e",
   "metadata": {},
   "outputs": [],
   "source": [
    "import pandas as pd\n",
    "import numpy as np\n"
   ]
  },
  {
   "cell_type": "code",
   "execution_count": null,
   "id": "3f9a1a0c",
   "metadata": {},
   "outputs": [
    {
     "name": "stdout",
     "output_type": "stream",
     "text": [
      "0     2\n",
      "1     2\n",
      "2     3\n",
      "3     1\n",
      "4     3\n",
      "     ..\n",
      "95    1\n",
      "96    4\n",
      "97    3\n",
      "98    1\n",
      "99    2\n",
      "Length: 100, dtype: int32\n",
      "0     1\n",
      "1     2\n",
      "2     2\n",
      "3     1\n",
      "4     3\n",
      "     ..\n",
      "95    2\n",
      "96    2\n",
      "97    1\n",
      "98    1\n",
      "99    3\n",
      "Length: 100, dtype: int32\n",
      "0     17626\n",
      "1     27722\n",
      "2     20116\n",
      "3     18826\n",
      "4     21353\n",
      "      ...  \n",
      "95    24608\n",
      "96    13160\n",
      "97    15303\n",
      "98    24097\n",
      "99    18414\n",
      "Length: 100, dtype: int32\n"
     ]
    }
   ],
   "source": [
    "s1 = pd.Series(np.random.randint(1, high=5, size=100, dtype='int32'))\n",
    "s2 = pd.Series(np.random.randint(1, high=4, size=100, dtype='int32'))\n",
    "s3 = pd.Series(np.random.randint(10000, high=30001, size=100, dtype='int32'))\n",
    "print(s1)\n",
    "print(s2)       \n",
    "print(s3)"
   ]
  },
  {
   "cell_type": "code",
   "execution_count": 33,
   "id": "c18094c9",
   "metadata": {},
   "outputs": [
    {
     "data": {
      "text/html": [
       "<div>\n",
       "<style scoped>\n",
       "    .dataframe tbody tr th:only-of-type {\n",
       "        vertical-align: middle;\n",
       "    }\n",
       "\n",
       "    .dataframe tbody tr th {\n",
       "        vertical-align: top;\n",
       "    }\n",
       "\n",
       "    .dataframe thead th {\n",
       "        text-align: right;\n",
       "    }\n",
       "</style>\n",
       "<table border=\"1\" class=\"dataframe\">\n",
       "  <thead>\n",
       "    <tr style=\"text-align: right;\">\n",
       "      <th></th>\n",
       "      <th>0</th>\n",
       "      <th>1</th>\n",
       "      <th>2</th>\n",
       "    </tr>\n",
       "  </thead>\n",
       "  <tbody>\n",
       "    <tr>\n",
       "      <th>0</th>\n",
       "      <td>2</td>\n",
       "      <td>1</td>\n",
       "      <td>17626</td>\n",
       "    </tr>\n",
       "    <tr>\n",
       "      <th>1</th>\n",
       "      <td>2</td>\n",
       "      <td>2</td>\n",
       "      <td>27722</td>\n",
       "    </tr>\n",
       "    <tr>\n",
       "      <th>2</th>\n",
       "      <td>3</td>\n",
       "      <td>2</td>\n",
       "      <td>20116</td>\n",
       "    </tr>\n",
       "    <tr>\n",
       "      <th>3</th>\n",
       "      <td>1</td>\n",
       "      <td>1</td>\n",
       "      <td>18826</td>\n",
       "    </tr>\n",
       "    <tr>\n",
       "      <th>4</th>\n",
       "      <td>3</td>\n",
       "      <td>3</td>\n",
       "      <td>21353</td>\n",
       "    </tr>\n",
       "  </tbody>\n",
       "</table>\n",
       "</div>"
      ],
      "text/plain": [
       "   0  1      2\n",
       "0  2  1  17626\n",
       "1  2  2  27722\n",
       "2  3  2  20116\n",
       "3  1  1  18826\n",
       "4  3  3  21353"
      ]
     },
     "execution_count": 33,
     "metadata": {},
     "output_type": "execute_result"
    }
   ],
   "source": [
    "houseekt = pd.concat([s1, s2, s3], axis=1)\n",
    "houseekt.head()"
   ]
  },
  {
   "cell_type": "code",
   "execution_count": 36,
   "id": "c1d8a98d",
   "metadata": {},
   "outputs": [
    {
     "name": "stdout",
     "output_type": "stream",
     "text": [
      "   bedrooms  bathrooms  price\n",
      "0         2          1  17626\n",
      "1         2          2  27722\n",
      "2         3          2  20116\n",
      "3         1          1  18826\n",
      "4         3          3  21353\n"
     ]
    }
   ],
   "source": [
    "houseekt = pd.concat([s1, s2, s3], axis=1)\n",
    "houseekt = houseekt.rename(columns={0: 'bedrooms', 1: 'bathrooms', 2: 'price'})\n",
    "print(houseekt.head())  \n"
   ]
  },
  {
   "cell_type": "code",
   "execution_count": 37,
   "id": "7c1c3b90",
   "metadata": {},
   "outputs": [
    {
     "name": "stdout",
     "output_type": "stream",
     "text": [
      "   bedrooms  bathrooms  price  bigcolum\n",
      "0         2          1  17626        20\n",
      "1         2          2  27722        82\n",
      "2         3          2  20116        63\n",
      "3         1          1  18826         6\n",
      "4         3          3  21353        16\n",
      "<class 'pandas.core.series.Series'>\n"
     ]
    }
   ],
   "source": [
    "bigcolum= pd.Series(np.random.randint(1, high=100, size=100, dtype='l'), name='bigcolum')\n",
    "houseekt = pd.concat([houseekt, bigcolum], axis=1)\n",
    "print(houseekt.head())\n",
    "print(type(bigcolum))"
   ]
  },
  {
   "cell_type": "code",
   "execution_count": 38,
   "id": "831048f2",
   "metadata": {},
   "outputs": [
    {
     "data": {
      "text/plain": [
       "0     20\n",
       "1     82\n",
       "2     63\n",
       "3      6\n",
       "4     16\n",
       "      ..\n",
       "95    61\n",
       "96    77\n",
       "97    29\n",
       "98    83\n",
       "99    94\n",
       "Name: bigcolum, Length: 100, dtype: int32"
      ]
     },
     "execution_count": 38,
     "metadata": {},
     "output_type": "execute_result"
    }
   ],
   "source": [
    "bigcolum.reset_index(drop=True, inplace=True)\n",
    "bigcolum\n"
   ]
  },
  {
   "cell_type": "code",
   "execution_count": null,
   "id": "f75c4947",
   "metadata": {},
   "outputs": [],
   "source": []
  }
 ],
 "metadata": {
  "kernelspec": {
   "display_name": "Python 3",
   "language": "python",
   "name": "python3"
  },
  "language_info": {
   "codemirror_mode": {
    "name": "ipython",
    "version": 3
   },
   "file_extension": ".py",
   "mimetype": "text/x-python",
   "name": "python",
   "nbconvert_exporter": "python",
   "pygments_lexer": "ipython3",
   "version": "3.11.3"
  }
 },
 "nbformat": 4,
 "nbformat_minor": 5
}
